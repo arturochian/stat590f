{
 "metadata": {
  "language": "Julia",
  "name": "",
  "signature": "sha256:8a85eb01cc4ec6c05a1f4532632a71298ea5803b16c59fce9e0fd7770c185b0f"
 },
 "nbformat": 3,
 "nbformat_minor": 0,
 "worksheets": [
  {
   "cells": [
    {
     "cell_type": "markdown",
     "metadata": {},
     "source": [
      "# Machine Learning in Julia\n",
      "## Getting Started\n",
      "\n",
      "[MLBase](http://mlbasejl.readthedocs.org/en/latest/) is a decent way to start if your data needs to be preprocessed. The Kaggle data will need to be processed a bit differently, so we won't be using this for our images data.\n",
      "\n",
      "For a pretty good list of ML related julia packages, see [this page](https://github.com/svaksha/Julia.jl/blob/master/AI.md). Take note, most of these are deprecated for one reason or another. Fortunately, this page has been very recently updated. Unfortunately, most of the packages it cites are unusable.\n",
      "\n",
      "\n",
      "## Methods we'll be \"covering\" include:\n",
      "- DecisionTree (19 days old)\n",
      "    - Classification Trees including Random Forests\n",
      "- ANN (4 months old)\n",
      "    - Artificial Neural Networks\n",
      "- SVM (8 months old)\n",
      "    - Support vector machines\n",
      "- DA (9 months old)\n",
      "    - Discriminant Analysis\n",
      "    \n",
      "### Packages we'll need to clone from Github\n",
      "ANN, SVM, and DA\n",
      "\n",
      "A note about cloning packages... you can name them whatever you want!\n",
      "Second argument to Pkg.clone will end up being the name of the package. \n",
      "\n",
      "Here, we'll also add packages that we'll need "
     ]
    },
    {
     "cell_type": "code",
     "collapsed": false,
     "input": [
      "Pkg.clone(\"https://github.com/EricChiang/ANN.jl.git\", \"ANN\")\n",
      "Pkg.clone(\"https://github.com/JuliaStats/SVM.jl.git\", \"SVM\")\n",
      "Pkg.clone(\"https://github.com/trthatcher/DA.jl.git\",\"DA\")\n",
      "\n",
      "Pkg.add(\"Images\")\n",
      "Pkg.add(\"DataFrames\")\n",
      "Pkg.add(\"DecisionTree\")\n",
      "Pkg.add(\"DataArrays\")"
     ],
     "language": "python",
     "metadata": {},
     "outputs": []
    },
    {
     "cell_type": "markdown",
     "metadata": {},
     "source": [
      "## Creating a Training and a Testing Set from the Kaggle Data\n",
      "Before getting started, you'll need to install [ImageMagick](http://www.imagemagick.org/), a tool used for extracting information from .bmp files (among other things).\n",
      "\n",
      "### Converting from images to data\n",
      "From there, we'll need to build a function to convert .bmp images from a file full of pictures to a data frame useful for prediction."
     ]
    },
    {
     "cell_type": "code",
     "collapsed": false,
     "input": [
      "#typeData could be either \"train\" or \"test.\n",
      "#labelsInfo should contain the IDs of each image to be read\n",
      "#The images in the trainResized and testResized data files\n",
      "#are 20x20 pixels, so imageSize is set to 400.\n",
      "#path should be set to the location of the data files.\n",
      "\n",
      "function read_data(typeData, labelsInfo, imageSize, path)\n",
      " #Intialize x matrix\n",
      " x = zeros(size(labelsInfo, 1), imageSize)\n",
      "\n",
      "    for (index, idImage) in enumerate(labelsInfo[:ID])\n",
      "    # Read image file\n",
      "        nameFile = \"$(path)/$(typeData)Resized/$(idImage).Bmp\"\n",
      "    img = imread(nameFile)\n",
      "    \n",
      "        # Convert\n",
      "    temp = zeros(20, 20)\n",
      "\n",
      "    for row_i in 1:20\n",
      "        for col_i in 1:20\n",
      "            if length(names(img[row_i, col_i])) == 3\n",
      "                temp[row_i, col_i] = sum(img[row_i, col_i].r + img[row_i, col_i].g + img[row_i, col_i].b)/3\n",
      "            else\n",
      "                temp[row_i, col_i] = img[row_i, col_i].val\n",
      "            end\n",
      "        end\n",
      "    end\n",
      "\n",
      "    x[index, :] = reshape(temp, 1, imageSize)\n",
      " end\n",
      " return x\n",
      "end"
     ],
     "language": "python",
     "metadata": {},
     "outputs": [
      {
       "metadata": {},
       "output_type": "pyout",
       "prompt_number": 1,
       "text": [
        "read_data (generic function with 1 method)"
       ]
      }
     ],
     "prompt_number": 1
    },
    {
     "cell_type": "markdown",
     "metadata": {},
     "source": [
      "### Training and Testing Data\n",
      "Now lets put that function to good use."
     ]
    },
    {
     "cell_type": "code",
     "collapsed": false,
     "input": [
      "using Images, DataFrames;\n",
      "imageSize = 400 #20 x 20 pixels\n",
      "\n",
      "#Set location of data files, folders\n",
      "path = \"D:/Projects/juliaML\"\n",
      "\n",
      "#Read information about training data , IDs.\n",
      "labelsInfoTrain = readtable(\"$(path)/trainLabels.csv\")\n",
      "\n",
      "xTrain = read_data(\"train\", labelsInfoTrain, imageSize, path)\n",
      "\n",
      "#Get only first character of string (convert from string to character).\n",
      "#Apply the function to each element of the column \"Class\"\n",
      "yTrain = map(x -> x[1], labelsInfoTrain[:Class])\n",
      "\n",
      "#Convert from character to integer\n",
      "yTrain = int(yTrain)\n",
      "\n",
      "#Read information about test data ( IDs ).\n",
      "labelsInfoTest = readtable(\"$(path)/sampleSubmission.csv\")\n",
      "\n",
      "#Read test matrix\n",
      "xTest = read_data(\"test\", labelsInfoTest, imageSize, path);"
     ],
     "language": "python",
     "metadata": {},
     "outputs": [
      {
       "output_type": "stream",
       "stream": "stderr",
       "text": [
        "Warning: New definition \n",
        "    +"
       ]
      },
      {
       "output_type": "stream",
       "stream": "stderr",
       "text": [
        "(AbstractArray{Bool,N},DataArray{Bool,N}) at C:\\Users\\Grunt\\.julia\\DataArrays\\src\\operators.jl:326\n",
        "is ambiguous with: \n",
        "    +(AbstractImageDirect{T,N},AbstractArray{T,N}) at C:\\Users\\Grunt\\.julia\\Images\\src\\algorithms.jl:17.\n",
        "To fix, define \n",
        "    +(AbstractImageDirect{Bool,N},DataArray{Bool,N})\n",
        "before the new definition.\n",
        "Warning: New definition \n",
        "    +(AbstractArray{T,N},DataArray{T,N}) at C:\\Users\\Grunt\\.julia\\DataArrays\\src\\operators.jl:326\n",
        "is ambiguous with: \n",
        "    +(AbstractImageDirect{T,N},AbstractArray{T,N}) at C:\\Users\\Grunt\\.julia\\Images\\src\\algorithms.jl:17.\n",
        "To fix, define \n",
        "    +(AbstractImageDirect{T,N},DataArray{T,N})\n",
        "before the new definition.\n",
        "Warning: New definition \n",
        "    +(AbstractArray{Bool,N},AbstractDataArray{Bool,N}) at C:\\Users\\Grunt\\.julia\\DataArrays\\src\\operators.jl:350\n",
        "is ambiguous with: \n",
        "    +(AbstractImageDirect{T,N},AbstractArray{T,N}) at C:\\Users\\Grunt\\.julia\\Images\\src\\algorithms.jl:17.\n",
        "To fix, define \n",
        "    +(AbstractImageDirect{Bool,N},AbstractDataArray{Bool,N})\n",
        "before the new definition.\n",
        "Warning: New definition \n",
        "    +(AbstractArray{T,N},AbstractDataArray{T,N}) at C:\\Users\\Grunt\\.julia\\DataArrays\\src\\operators.jl:350\n",
        "is ambiguous with: \n",
        "    +(AbstractImageDirect{T,N},AbstractArray{T,N}) at C:\\Users\\Grunt\\.julia\\Images\\src\\algorithms.jl:17.\n",
        "To fix, define \n",
        "    +(AbstractImageDirect{T,N},AbstractDataArray{T,N})\n",
        "before the new definition.\n",
        "Warning: New definition \n",
        "    -(AbstractArray{Bool,N},DataArray{Bool,N}) at C:\\Users\\Grunt\\.julia\\DataArrays\\src\\operators.jl:326\n",
        "is ambiguous with: \n",
        "    -(AbstractImageDirect{T,N},AbstractArray{T,N}) at C:\\Users\\Grunt\\.julia\\Images\\src\\algorithms.jl:30.\n",
        "To fix, define \n",
        "    -(AbstractImageDirect{Bool,N},DataArray{Bool,N})\n",
        "before the new definition.\n",
        "Warning: New definition \n",
        "    -(AbstractArray{T,N},DataArray{T,N}) at C:\\Users\\Grunt\\.julia\\DataArrays\\src\\operators.jl:326\n",
        "is ambiguous with: \n",
        "    -(AbstractImageDirect{T,N},AbstractArray{T,N}) at C:\\Users\\Grunt\\.julia\\Images\\src\\algorithms.jl:30.\n",
        "To fix, define \n",
        "    -(AbstractImageDirect{T,N},DataArray{T,N})\n",
        "before the new definition.\n",
        "Warning: New definition \n",
        "    -(AbstractArray{Bool,N},AbstractDataArray{Bool,N}) at C:\\Users\\Grunt\\.julia\\DataArrays\\src\\operators.jl:350\n",
        "is ambiguous with: \n",
        "    -(AbstractImageDirect{T,N},AbstractArray{T,N}) at C:\\Users\\Grunt\\.julia\\Images\\src\\algorithms.jl:30.\n",
        "To fix, define \n",
        "    -(AbstractImageDirect{Bool,N},AbstractDataArray{Bool,N})\n",
        "before the new definition.\n",
        "Warning: New definition \n",
        "    -(AbstractArray{T,N},AbstractDataArray{T,N}) at C:\\Users\\Grunt\\.julia\\DataArrays\\src\\operators.jl:350\n",
        "is ambiguous with: \n",
        "    -(AbstractImageDirect{T,N},AbstractArray{T,N}) at C:\\Users\\Grunt\\.julia\\Images\\src\\algorithms.jl:30.\n",
        "To fix, define \n",
        "    -(AbstractImageDirect{T,N},AbstractDataArray{T,N})\n",
        "before the new definition.\n"
       ]
      },
      {
       "output_type": "stream",
       "stream": "stderr",
       "text": [
        "Warning: New definition \n",
        "    .*(Union(PooledDataArray{T,R<:Integer,N},DataArray{T,N}),AbstractArray{T,N}...) at C:\\Users\\Grunt\\.julia\\DataArrays\\src\\broadcast.jl:282\n",
        "is ambiguous with: \n",
        "    .*(AbstractArray{T,N},AbstractImageDirect{T,N}) at C:\\Users\\Grunt\\.julia\\Images\\src\\algorithms.jl:45.\n",
        "To fix, define \n",
        "    .*(Union(PooledDataArray{T,R<:Integer,N},DataArray{T,N}),AbstractImageDirect{T,N})\n",
        "before the new definition.\n",
        "Warning: New definition \n",
        "    .*(AbstractArray{T,N},Union(PooledDataArray{T,R<:Integer,N},DataArray{T,N}),AbstractArray{T,N}...) at C:\\Users\\Grunt\\.julia\\DataArrays\\src\\broadcast.jl:282\n",
        "is ambiguous with: \n",
        "    .*(AbstractImageDirect{T,N},AbstractArray{T,N}) at C:\\Users\\Grunt\\.julia\\Images\\src\\algorithms.jl:44.\n",
        "To fix, define \n",
        "    .*(AbstractImageDirect{T,N},Union(PooledDataArray{T,R<:Integer,N},DataArray{T,N}))\n",
        "before the new definition.\n",
        "Warning: New definition \n",
        "    .+(AbstractArray{T,N},Union(PooledDataArray{T,R<:Integer,N},DataArray{T,N}),AbstractArray{T,N}...) at C:\\Users\\Grunt\\.julia\\DataArrays\\src\\broadcast.jl:284\n",
        "is ambiguous with: \n",
        "    .+(AbstractImageDirect{T,N},AbstractArray{T,N}) at C:\\Users\\Grunt\\.julia\\Images\\src\\algorithms.jl:19.\n",
        "To fix, define \n",
        "    .+(AbstractImageDirect{T,N},Union(PooledDataArray{T,R<:Integer,N},DataArray{T,N}))\n",
        "before the new definition.\n",
        "Warning: New definition \n",
        "    .-(AbstractArray{T,N},Union(PooledDataArray{T,R<:Integer,N},DataArray{T,N})) at C:\\Users\\Grunt\\.julia\\DataArrays\\src\\broadcast.jl:272\n",
        "is ambiguous with: \n",
        "    .-(AbstractImageDirect{T,N},AbstractArray{T,N}) at C:\\Users\\Grunt\\.julia\\Images\\src\\algorithms.jl:33.\n",
        "To fix, define \n",
        "    .-(AbstractImageDirect{T,N},Union(PooledDataArray{T,R<:Integer,N},DataArray{T,N}))\n",
        "before the new definition.\n",
        "Warning: New definition \n",
        "    ./(AbstractArray{T,N},Union(PooledDataArray{T,R<:Integer,N},DataArray{T,N})) at C:\\Users\\Grunt\\.julia\\DataArrays\\src\\broadcast.jl:272\n",
        "is ambiguous with: \n",
        "    ./(AbstractImageDirect{T,N},AbstractArray{T,N}) at C:\\Users\\Grunt\\.julia\\Images\\src\\algorithms.jl:48.\n",
        "To fix, define \n",
        "    ./(AbstractImageDirect{T,N},Union(PooledDataArray{T,R<:Integer,N},DataArray{T,N}))\n",
        "before the new definition.\n",
        "Warning: New definition \n",
        "    .==(AbstractArray{Bool,N},Union(DataArray{Bool,N},PooledDataArray{Bool,R<:Integer,N})) at C:\\Users\\Grunt\\.julia\\DataArrays\\src\\broadcast.jl:317\n",
        "is ambiguous with: \n",
        "    .==(AbstractImageDirect{Bool,N},AbstractArray{Bool,N}) at C:\\Users\\Grunt\\.julia\\Images\\src\\algorithms.jl:124.\n",
        "To fix, define \n",
        "    .==(AbstractImageDirect{Bool,N},Union(DataArray{Bool,N},PooledDataArray{Bool,R<:Integer,N}))\n",
        "before the new definition.\n",
        "Warning: New definition \n",
        "    .==(AbstractArray{T,N},Union(PooledDataArray{T,R<:Integer,N},DataArray{T,N})) at C:\\Users\\Grunt\\.julia\\DataArrays\\src\\broadcast.jl:272\n",
        "is ambiguous with: \n",
        "    .==(AbstractImageDirect{Bool,N},AbstractArray{Bool,N}) at C:\\Users\\Grunt\\.julia\\Images\\src\\algorithms.jl:124.\n",
        "To fix, define \n",
        "    .==(AbstractImageDirect{Bool,N},Union(DataArray{Bool,N},PooledDataArray{Bool,R<:Integer,N}))\n",
        "before the new definition.\n",
        "Warning: New definition \n",
        "    .==(AbstractArray{T,N},Union(PooledDataArray{T,R<:Integer,N},DataArray{T,N})) at C:\\Users\\Grunt\\.julia\\DataArrays\\src\\broadcast.jl:272\n",
        "is ambiguous with: \n",
        "    .==(AbstractImageDirect{T,N},AbstractArray{T,N}) at C:\\Users\\Grunt\\.julia\\Images\\src\\algorithms.jl:125.\n",
        "To fix, define \n",
        "    .==(AbstractImageDirect{T,N},Union(PooledDataArray{T,R<:Integer,N},DataArray{T,N}))\n",
        "before the new definition.\n"
       ]
      },
      {
       "output_type": "stream",
       "stream": "stderr",
       "text": [
        "Warning: New definition \n",
        "    .>(AbstractArray{Bool,N},Union(DataArray{Bool,N},PooledDataArray{Bool,R<:Integer,N})) at C:\\Users\\Grunt\\.julia\\DataArrays\\src\\broadcast.jl:317\n",
        "is ambiguous with: \n",
        "    .>(AbstractImageDirect{T,N},AbstractArray{T,N}) at C:\\Users\\Grunt\\.julia\\Images\\src\\algorithms.jl:122.\n",
        "To fix, define \n",
        "    .>(AbstractImageDirect{Bool,N},Union(DataArray{Bool,N},PooledDataArray{Bool,R<:Integer,N}))\n",
        "before the new definition.\n",
        "Warning: New definition \n",
        "    .>(AbstractArray{T,N},Union(PooledDataArray{T,R<:Integer,N},DataArray{T,N})) at C:\\Users\\Grunt\\.julia\\DataArrays\\src\\broadcast.jl:272\n",
        "is ambiguous with: \n",
        "    .>(AbstractImageDirect{T,N},AbstractArray{T,N}) at C:\\Users\\Grunt\\.julia\\Images\\src\\algorithms.jl:122.\n",
        "To fix, define \n",
        "    .>(AbstractImageDirect{T,N},Union(PooledDataArray{T,R<:Integer,N},DataArray{T,N}))\n",
        "before the new definition.\n",
        "Warning: New definition \n",
        "    .<(AbstractArray{Bool,N},Union(DataArray{Bool,N},PooledDataArray{Bool,R<:Integer,N})) at C:\\Users\\Grunt\\.julia\\DataArrays\\src\\broadcast.jl:317\n",
        "is ambiguous with: \n",
        "    .<(AbstractImageDirect{Bool,N},AbstractArray{Bool,N}) at C:\\Users\\Grunt\\.julia\\Images\\src\\algorithms.jl:120.\n",
        "To fix, define \n",
        "    .<(AbstractImageDirect{Bool,N},Union(DataArray{Bool,N},PooledDataArray{Bool,R<:Integer,N}))\n",
        "before the new definition.\n",
        "Warning: New definition \n",
        "    .<(AbstractArray{T,N},Union(PooledDataArray{T,R<:Integer,N},DataArray{T,N})) at C:\\Users\\Grunt\\.julia\\DataArrays\\src\\broadcast.jl:272\n",
        "is ambiguous with: \n",
        "    .<(AbstractImageDirect{Bool,N},AbstractArray{Bool,N}) at C:\\Users\\Grunt\\.julia\\Images\\src\\algorithms.jl:120.\n",
        "To fix, define \n",
        "    .<(AbstractImageDirect{Bool,N},Union(DataArray{Bool,N},PooledDataArray{Bool,R<:Integer,N}))\n",
        "before the new definition.\n",
        "Warning: New definition \n",
        "    .<(AbstractArray{T,N},Union(PooledDataArray{T,R<:Integer,N},DataArray{T,N})) at C:\\Users\\Grunt\\.julia\\DataArrays\\src\\broadcast.jl:272\n",
        "is ambiguous with: \n",
        "    .<(AbstractImageDirect{T,N},AbstractArray{T,N}) at C:\\Users\\Grunt\\.julia\\Images\\src\\algorithms.jl:121.\n",
        "To fix, define \n",
        "    .<(AbstractImageDirect{T,N},Union(PooledDataArray{T,R<:Integer,N},DataArray{T,N}))"
       ]
      },
      {
       "output_type": "stream",
       "stream": "stderr",
       "text": [
        "\n",
        "before the new definition.\n"
       ]
      }
     ],
     "prompt_number": 2
    },
    {
     "cell_type": "markdown",
     "metadata": {},
     "source": [
      "## Random Forest"
     ]
    },
    {
     "cell_type": "code",
     "collapsed": false,
     "input": [
      "using DecisionTree\n",
      "\n",
      "#Train random forest with\n",
      "#20 for number of features chosen at each random split,\n",
      "#50 for number of trees,\n",
      "#and 1.0 for ratio of subsampling.\n",
      "model = build_forest(yTrain, xTrain, 20, 50, 1.0)\n",
      "\n",
      "#Read information about test data ( IDs ).\n",
      "labelsInfoTest = readtable(\"$(path)/sampleSubmission.csv\")\n",
      "\n",
      "#Read test matrix\n",
      "xTest = read_data(\"test\", labelsInfoTest, imageSize, path)\n",
      "\n",
      "#Get predictions for test data\n",
      "predTest = apply_forest(model, xTest)\n",
      "\n",
      "#Convert integer predictions to character\n",
      "labelsInfoTest[:Class] = char(predTest)\n",
      "\n",
      "writetable(\"$(path)/juliaSubmissionRF.csv\", labelsInfoTest, separator=',', header=true)\n"
     ],
     "language": "python",
     "metadata": {},
     "outputs": [],
     "prompt_number": 13
    },
    {
     "cell_type": "markdown",
     "metadata": {},
     "source": [
      "## Artifical Neural Networks"
     ]
    },
    {
     "cell_type": "code",
     "collapsed": false,
     "input": [
      "using ANN\n",
      "\n",
      "n_hidden_units = 40\n",
      "\n",
      "ann = ArtificialNeuralNetwork(n_hidden_units)\n",
      "\n",
      "epochs = 5\n",
      "\n",
      "# Learning Rate?\n",
      "alpha = .1\n",
      "\n",
      "# Decay?\n",
      "lambda = .1\n",
      "\n",
      "fit!(ann, xTrain, yTrain, epochs = epochs, alpha = alpha, lambda = lambda)\n",
      "\n",
      "#Get predictions for test data\n",
      "predTestProbs = predict(ann, xTest)\n",
      "\n",
      "predTest = zeros(size(predTestProbs)[1])\n",
      "for i in 1:size(predTestProbs)[1]\n",
      "    predTest[i] = ann.classes[indmax(predTestProbs[i,:])]\n",
      "end\n",
      "\n",
      "#Convert integer predictions to character\n",
      "labelsInfoTest[:Class] = predTest\n",
      "\n",
      "writetable(\"$(path)/juliaSubmissionANN.csv\", labelsInfoTest, separator=',', header=true)\n"
     ],
     "language": "python",
     "metadata": {},
     "outputs": [],
     "prompt_number": 15
    },
    {
     "cell_type": "markdown",
     "metadata": {},
     "source": [
      "## Support Vector Machines\n",
      "\n",
      "You'll note that the predict function doesn't work here. That's because there's a naming conflict with another installed package, but I'm not sure which\n"
     ]
    },
    {
     "cell_type": "code",
     "collapsed": false,
     "input": [
      "# To show how SVMs work, we'll use Fisher's iris data set\n",
      "using SVM\n",
      "\n",
      "# SVM format expects observations in columns and features in rows\n",
      "X = xTrain'\n",
      "\n",
      "# SVM format expects positive and negative examples to +1/-1\n",
      "Y = [Class == \"n\" ? 1.0 : -1.0 for Class in labelsInfoTrain[:, :Class]]\n",
      "\n",
      "# We'll fit a model\n",
      "# The algorithm processes minibatches of data of size k\n",
      "k = 150\n",
      "\n",
      "# Weight regularization is controlled by lambda\n",
      "lambda = 0.1\n",
      "\n",
      "# The algorithm performs T iterations\n",
      "t = 1000\n",
      "model = svm(X, Y, k = k, lambda = lambda, T = 1000)\n",
      "\n",
      "# And now evaluate that model on the testset\n",
      "is_n = predict(model, xTrain')"
     ],
     "language": "python",
     "metadata": {},
     "outputs": [
      {
       "ename": "LoadError",
       "evalue": "`predict` has no method matching predict(::SVMFit, ::Array{Float64,2})\nwhile loading In[20], in expression starting on line 22",
       "output_type": "pyerr",
       "traceback": [
        "`predict` has no method matching predict(::SVMFit, ::Array{Float64,2})\nwhile loading In[20], in expression starting on line 22",
        ""
       ]
      }
     ],
     "prompt_number": 20
    },
    {
     "cell_type": "markdown",
     "metadata": {},
     "source": [
      "##Descriminant Analysis\n",
      "\n",
      "This one is also broken and deprecated into oblivion. Hopefully someone will fix this one someday."
     ]
    },
    {
     "cell_type": "code",
     "collapsed": false,
     "input": [
      "using DA, DataArrays, RDatasets\n",
      "\n",
      "iris = dataset(\"datasets\", \"iris\")\n",
      "\n",
      "clean_colnames!(iris)\n",
      "\n",
      "pool!(iris, [\"Species\"])\n",
      "\n",
      "y = iris[[\"Species\"]][1]\n",
      "\n",
      "train = vec(rand(150,1) .< 0.8)\n",
      "test = train .== false\n",
      "\n",
      "fm = Formula(:(Species ~ Sepal_Length + Sepal_Width + Petal_Length + Petal_Width))\n",
      "\n"
     ],
     "language": "python",
     "metadata": {},
     "outputs": [
      {
       "ename": "LoadError",
       "evalue": "clean_colnames! not defined\nwhile loading In[7], in expression starting on line 5",
       "output_type": "pyerr",
       "traceback": [
        "clean_colnames! not defined\nwhile loading In[7], in expression starting on line 5",
        ""
       ]
      }
     ],
     "prompt_number": 7
    }
   ],
   "metadata": {}
  }
 ]
}