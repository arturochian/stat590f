{
 "metadata": {
  "language": "Julia",
  "name": "",
  "signature": "sha256:08dc1d3a1909dae479aeb0ff10171773096e848c5f990466b58b667eb2e445be"
 },
 "nbformat": 3,
 "nbformat_minor": 0,
 "worksheets": [
  {
   "cells": [
    {
     "cell_type": "heading",
     "level": 1,
     "metadata": {},
     "source": [
      "Modules and Package Development"
     ]
    },
    {
     "cell_type": "heading",
     "level": 2,
     "metadata": {},
     "source": [
      "Modules: Basically Packages"
     ]
    },
    {
     "cell_type": "markdown",
     "metadata": {},
     "source": [
      "If you're interested in the docs on this subject, see [here.](http://julia.readthedocs.org/en/latest/manual/modules/)\n",
      "Modules allow you to explicity control what functions and values you have in your environment. It does this with a few key words:\n",
      "- `import`:\n",
      "    - allows for import of bindings from another module/package either specifically or generally\n",
      "- `importall`\n",
      "    - imports all bindings from another module/package\n",
      "- `export`\n",
      "    - specifies what bindings from **this** module will be availabe to users\n",
      "    \n",
      "### Using import\n",
      "\n",
      "`import` is a pretty powerful keyword that allows you to specify exactly what you want to bring in, using the following syntax:\n",
      "\n",
      "Suppose we have a test module that we're interested in importing part of:\n",
      "    \n",
      "    module MyModule\n",
      "\n",
      "    export x,y\n",
      "\n",
      "    x() = \"x\"\n",
      "    y() = \"y\"\n",
      "    p() = \"p\"\n",
      "\n",
      "    end\n",
      "    \n",
      "Now with `import` (as we'd specify in a module that *we're* writing, i.e. not `MyModule`), we can specify what parts of `MyModule` we'd like to use.\n",
      "\n",
      "`import MyModule` gives us: everything (`MyModule.x`, `MyModule.y`, and `MyModule.z`)\n",
      "\n",
      "`import MyModule.x, MyModule.p` gives us: `x` and `p`\n",
      "\n",
      "`import MyModule: x, p` gives us: `x` and `p`\n",
      "\n",
      "`importall MyModule` gives us: everything from the `export` statement (note this gives us **less** than using `import MyModule`)\n",
      "\n",
      "### Using include\n",
      "Using the `include` function is useful for incorporating larger volumes of code within a module (you'll see this in a lot of packages that require lots of stuff)\n"
     ]
    },
    {
     "cell_type": "heading",
     "level": 2,
     "metadata": {},
     "source": [
      "Package Development"
     ]
    },
    {
     "cell_type": "markdown",
     "metadata": {},
     "source": [
      "Easier than you might think. To get started, all we need to do (after setting up git stuff) is: `Pkg.generate(\"PACKAGE NAME\", \"LICENSE\")` where you give it a package name of your choice, and the `\"LICENSE\"` is either `\"MIT\"`, `\"BSD\"`, or `\"ASL\"`. Other licenses are available if you modify `~/.julia/v0.3/PACKAGE/LICENSE.md`\n",
      "\n",
      "From here, we'll proceed in LightTable because its slightly easier."
     ]
    },
    {
     "cell_type": "code",
     "collapsed": false,
     "input": [],
     "language": "python",
     "metadata": {},
     "outputs": []
    }
   ],
   "metadata": {}
  }
 ]
}