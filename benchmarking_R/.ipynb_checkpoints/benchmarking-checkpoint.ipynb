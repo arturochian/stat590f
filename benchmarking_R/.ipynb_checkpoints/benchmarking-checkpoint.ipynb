{
 "cells": [
  {
   "cell_type": "markdown",
   "metadata": {
    "slideshow": {
     "slide_type": "slide"
    }
   },
   "source": [
    "# Benchmarking\n",
    "### Julia vs. R\n",
    "\n",
    ">In computing, a *benchmark* is the act of running a computer program, a set of programs, or other operations, in order to assess the relative performance of an object, normally by running a number of standard tests and trials against it."
   ]
  },
  {
   "cell_type": "markdown",
   "metadata": {
    "slideshow": {
     "slide_type": "slide"
    }
   },
   "source": [
    "# Agenda\n",
    " - Julia performance dos and don'ts\n",
    " - Rules of the game\n",
    " - Tests\n",
    " - Results\n",
    " - Comments\n",
    " \n",
    " "
   ]
  },
  {
   "cell_type": "markdown",
   "metadata": {
    "slideshow": {
     "slide_type": "slide"
    }
   },
   "source": [
    "# Julia performance dos and don'ts\n",
    "These are suggestions from [docs.julialang.org](http://docs.julialang.org/en/latest/manual/performance-tips/)"
   ]
  },
  {
   "cell_type": "markdown",
   "metadata": {
    "slideshow": {
     "slide_type": "subslide"
    }
   },
   "source": [
    "# Avoid global variables\n",
    " - Variables should be local, or passed as arguments to functions, whenever possible\n",
    " - Any code that is performance-critical or being benchmarked should be inside a function"
   ]
  },
  {
   "cell_type": "markdown",
   "metadata": {
    "slideshow": {
     "slide_type": "subslide"
    }
   },
   "source": [
    "# Measure performance with `@time`\n",
    " - `@time` reports time as well as memory allocation\n",
    " - This is the single biggest advantage of @time vs. functions like tic and toc"
   ]
  },
  {
   "cell_type": "markdown",
   "metadata": {
    "slideshow": {
     "slide_type": "subslide"
    }
   },
   "source": [
    "# Run everything twice\n",
    " - On the first call everything gets compiled \n",
    " - You should not take the results of this run seriously"
   ]
  },
  {
   "cell_type": "markdown",
   "metadata": {
    "slideshow": {
     "slide_type": "subslide"
    }
   },
   "source": [
    "# Avoid containers with abstract type parameters\n",
    " - Since abstract objects can be of arbitrary size and structure, they must be represented as an array of pointers to individually allocated objects; this is slow\n",
    " - Defining a type will create a contiguous block of values that can be manipulated efficiently"
   ]
  },
  {
   "cell_type": "markdown",
   "metadata": {
    "slideshow": {
     "slide_type": "subslide"
    }
   },
   "source": [
    "# Break functions up\n",
    "- Writing a function as many small definitions allows the compiler to directly call the most applicable code, or even inline it"
   ]
  },
  {
   "cell_type": "markdown",
   "metadata": {
    "slideshow": {
     "slide_type": "slide"
    }
   },
   "source": [
    "# Rules of the game\n",
    " - Attempt to follow best practices for both languages\n",
    " - **Except**, no Hadley code in R\n",
    " - Run each task 100x\n",
    " - My computer: Lenovo desktop, Ubuntu 14.04 LTS"
   ]
  },
  {
   "cell_type": "markdown",
   "metadata": {
    "slideshow": {
     "slide_type": "slide"
    }
   },
   "source": [
    "# Tests\n",
    " 1. Recursive Fibonacci \n",
    " 2. Array construction\n",
    " 1. Matrix multiplication and transpose\n",
    " 1. Dot product of vectors\n",
    " 1. Statistics on a random matrix"
   ]
  },
  {
   "cell_type": "markdown",
   "metadata": {
    "slideshow": {
     "slide_type": "subslide"
    }
   },
   "source": [
    "#1. Recursive fibonacci\n",
    "###Julia"
   ]
  },
  {
   "cell_type": "code",
   "execution_count": 1,
   "metadata": {
    "collapsed": false
   },
   "outputs": [
    {
     "data": {
      "text/plain": [
       "fib (generic function with 1 method)"
      ]
     },
     "execution_count": 1,
     "metadata": {},
     "output_type": "execute_result"
    }
   ],
   "source": [
    "fib(n) = n < 2 ? n : fib(n-1) + fib(n-2)"
   ]
  },
  {
   "cell_type": "markdown",
   "metadata": {
    "slideshow": {
     "slide_type": "-"
    }
   },
   "source": [
    "###R"
   ]
  },
  {
   "cell_type": "code",
   "execution_count": 1,
   "metadata": {
    "collapsed": true
   },
   "outputs": [],
   "source": [
    "fib <- function(n) {\n",
    "    if(n < 2) {\n",
    "        return(n)\n",
    "    } else {\n",
    "        return(fib(n-1) + fib(n-2))\n",
    "    }\n",
    "}"
   ]
  },
  {
   "cell_type": "markdown",
   "metadata": {
    "slideshow": {
     "slide_type": "subslide"
    }
   },
   "source": [
    "#2. Array construction\n",
    "###Julia"
   ]
  },
  {
   "cell_type": "code",
   "execution_count": 1,
   "metadata": {
    "collapsed": false
   },
   "outputs": [
    {
     "data": {
      "text/plain": [
       "array_construct (generic function with 1 method)"
      ]
     },
     "execution_count": 1,
     "metadata": {},
     "output_type": "execute_result"
    }
   ],
   "source": [
    "array_construct(n) = ones(n, n)"
   ]
  },
  {
   "cell_type": "markdown",
   "metadata": {
    "slideshow": {
     "slide_type": "-"
    }
   },
   "source": [
    "###R"
   ]
  },
  {
   "cell_type": "code",
   "execution_count": 1,
   "metadata": {
    "collapsed": true
   },
   "outputs": [],
   "source": [
    "array_construct <- function(n) {\n",
    "    matrix(1, n, n)\n",
    "}"
   ]
  },
  {
   "cell_type": "markdown",
   "metadata": {
    "slideshow": {
     "slide_type": "slide"
    }
   },
   "source": [
    "# Results"
   ]
  },
  {
   "cell_type": "markdown",
   "metadata": {
    "slideshow": {
     "slide_type": "slide"
    }
   },
   "source": [
    "# Comments"
   ]
  }
 ],
 "metadata": {
  "celltoolbar": "Slideshow",
  "kernelspec": {
   "display_name": "R",
   "name": "ir"
  },
  "language": "Julia",
  "language_info": {
   "codemirror_mode": "r",
   "file_extension": "r",
   "mimetype": "text/x-r-source",
   "name": "R",
   "pygments_lexer": "r"
  },
  "signature": "sha256:301d1c4b41bfc2f0556e2e3bc9ae091deace29d9f814079d104901301362f881"
 },
 "nbformat": 4,
 "nbformat_minor": 0
}